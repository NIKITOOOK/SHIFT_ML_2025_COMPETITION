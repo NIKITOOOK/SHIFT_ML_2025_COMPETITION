{
  "cells": [
    {
      "cell_type": "code",
      "source": [
        "# 1) установить gdown (разово)\n",
        "!pip install -q -U gdown"
      ],
      "metadata": {
        "id": "_4jmSM-PZYMn"
      },
      "id": "_4jmSM-PZYMn",
      "execution_count": 12,
      "outputs": []
    },
    {
      "cell_type": "code",
      "source": [
        "# 2) скачать всю папку в /content/drive_folder\n",
        "FOLDER_URL=\"https://drive.google.com/drive/folders/1B8oObPiWMzbnvihodze71Vjv-N4nbpxU\"\n",
        "!gdown --folder $FOLDER_URL -O /content/drive_folder\n",
        "!ls -la /content/drive_folder"
      ],
      "metadata": {
        "colab": {
          "base_uri": "https://localhost:8080/"
        },
        "id": "dzssLsazaBo3",
        "outputId": "78c8f1e6-f60d-48a2-b101-20fe0ca6a7a5"
      },
      "id": "dzssLsazaBo3",
      "execution_count": 13,
      "outputs": [
        {
          "output_type": "stream",
          "name": "stdout",
          "text": [
            "Retrieving folder contents\n",
            "Processing file 1T6QuFUReIV9w960v63msOIlqZiW0Gn9- fpr.png\n",
            "Processing file 1ODCY8w6dJFmxVap6Ty2oYfCbXZsxkqPH rocauc.png\n",
            "Processing file 10XYwnIpwEf6JTS8_9QfrN9iLzvsTT72- SHIFT_ML_2025_COMPETITION.zip\n",
            "Processing file 1jejmAa5GW_elzFg2JvXFwsWJc2hDQnxH tpr.png\n",
            "Processing file 1Ej7oMNl5Gc5S0dKhHmeF_IY-zsFUoTMq ответ.png\n",
            "Retrieving folder contents completed\n",
            "Building directory structure\n",
            "Building directory structure completed\n",
            "Downloading...\n",
            "From: https://drive.google.com/uc?id=1T6QuFUReIV9w960v63msOIlqZiW0Gn9-\n",
            "To: /content/drive_folder/fpr.png\n",
            "100% 4.11k/4.11k [00:00<00:00, 15.2MB/s]\n",
            "Downloading...\n",
            "From: https://drive.google.com/uc?id=1ODCY8w6dJFmxVap6Ty2oYfCbXZsxkqPH\n",
            "To: /content/drive_folder/rocauc.png\n",
            "100% 45.0k/45.0k [00:00<00:00, 132MB/s]\n",
            "Downloading...\n",
            "From (original): https://drive.google.com/uc?id=10XYwnIpwEf6JTS8_9QfrN9iLzvsTT72-\n",
            "From (redirected): https://drive.google.com/uc?id=10XYwnIpwEf6JTS8_9QfrN9iLzvsTT72-&confirm=t&uuid=b29a6378-ace7-4733-a074-fd9de5d621ce\n",
            "To: /content/drive_folder/SHIFT_ML_2025_COMPETITION.zip\n",
            "100% 229M/229M [00:07<00:00, 31.7MB/s]\n",
            "Downloading...\n",
            "From: https://drive.google.com/uc?id=1jejmAa5GW_elzFg2JvXFwsWJc2hDQnxH\n",
            "To: /content/drive_folder/tpr.png\n",
            "100% 4.20k/4.20k [00:00<00:00, 18.3MB/s]\n",
            "Downloading...\n",
            "From: https://drive.google.com/uc?id=1Ej7oMNl5Gc5S0dKhHmeF_IY-zsFUoTMq\n",
            "To: /content/drive_folder/ответ.png\n",
            "100% 21.3k/21.3k [00:00<00:00, 57.3MB/s]\n",
            "Download completed\n",
            "total 223496\n",
            "drwxr-xr-x 2 root root      4096 Aug  9 15:16 .\n",
            "drwxr-xr-x 1 root root      4096 Aug  9 15:16 ..\n",
            "-rw-r--r-- 1 root root      4107 Jul 27 12:10 fpr.png\n",
            "-rw-r--r-- 1 root root     45041 Jul 27 12:10 rocauc.png\n",
            "-rw-r--r-- 1 root root 228763541 Jul 27 11:41 SHIFT_ML_2025_COMPETITION.zip\n",
            "-rw-r--r-- 1 root root      4204 Jul 27 12:10 tpr.png\n",
            "-rw-r--r-- 1 root root     21291 Jul 27 12:06 ответ.png\n"
          ]
        }
      ]
    },
    {
      "cell_type": "code",
      "source": [
        "!unzip -o /content/drive_folder/SHIFT_ML_2025_COMPETITION.zip -d /content/drive_folder/SHIFT_ML_2025_COMPETITION\n"
      ],
      "metadata": {
        "colab": {
          "base_uri": "https://localhost:8080/"
        },
        "id": "jGba-eWCaY8l",
        "outputId": "9a7ad38f-440f-4960-ac55-a29db433c627"
      },
      "id": "jGba-eWCaY8l",
      "execution_count": 14,
      "outputs": [
        {
          "output_type": "stream",
          "name": "stdout",
          "text": [
            "Archive:  /content/drive_folder/SHIFT_ML_2025_COMPETITION.zip\n",
            "  inflating: /content/drive_folder/SHIFT_ML_2025_COMPETITION/baseline.ipynb  \n",
            "  inflating: /content/drive_folder/SHIFT_ML_2025_COMPETITION/__MACOSX/._baseline.ipynb  \n",
            "  inflating: /content/drive_folder/SHIFT_ML_2025_COMPETITION/shift_ml_2025_test.csv  \n",
            "  inflating: /content/drive_folder/SHIFT_ML_2025_COMPETITION/__MACOSX/._shift_ml_2025_test.csv  \n",
            "  inflating: /content/drive_folder/SHIFT_ML_2025_COMPETITION/shift_ml_2025_train.csv  \n",
            "  inflating: /content/drive_folder/SHIFT_ML_2025_COMPETITION/__MACOSX/._shift_ml_2025_train.csv  \n"
          ]
        }
      ]
    },
    {
      "cell_type": "code",
      "execution_count": 19,
      "id": "74f07ad6-0ef9-4368-9ad2-266ad9a0ac42",
      "metadata": {
        "id": "74f07ad6-0ef9-4368-9ad2-266ad9a0ac42"
      },
      "outputs": [],
      "source": [
        "import pandas as pd\n",
        "import numpy as np\n",
        "from sklearn.linear_model import LogisticRegression\n",
        "\n",
        "train = pd.read_csv('/content/drive_folder/SHIFT_ML_2025_COMPETITION/shift_ml_2025_train.csv',low_memory=False) #\n",
        "target = train['итоговый_статус_займа']\n",
        "test = pd.read_csv('/content/drive_folder/SHIFT_ML_2025_COMPETITION/shift_ml_2025_test.csv',low_memory=False) #/content/drive_folder/SHIFT_ML_2025_COMPETITION/shift_ml_2025_test.csv\n",
        "\n",
        "# Выбираем только нужные признаки\n",
        "features = ['сумма_займа', 'лимит_по_картам']\n",
        "X_train = train[features]\n",
        "X_train = X_train.fillna(0)\n",
        "\n",
        "y_train = target\n",
        "X_test = test[features]\n",
        "X_test = X_test.fillna(0)\n",
        "\n",
        "# Обучаем логистическую регрессию\n",
        "model = LogisticRegression()\n",
        "model.fit(X_train, y_train)\n",
        "\n",
        "# Делаем предсказания\n",
        "test_predict = model.predict_proba(X_test)[:, 1]\n",
        "\n",
        "# Формируем сабмит\n",
        "answer = pd.DataFrame()\n",
        "answer['id'] = test['id']\n",
        "answer['proba'] = test_predict\n",
        "answer.to_csv('submission.csv', index=False)"
      ]
    },
    {
      "cell_type": "code",
      "source": [
        "df = pd.read_csv(\"/content/drive_folder/SHIFT_ML_2025_COMPETITION/shift_ml_2025_train.csv\")"
      ],
      "metadata": {
        "colab": {
          "base_uri": "https://localhost:8080/"
        },
        "id": "IGkdQQ_djzR-",
        "outputId": "717c3d63-6082-4d71-99bb-dd5781f4f24d"
      },
      "id": "IGkdQQ_djzR-",
      "execution_count": 26,
      "outputs": [
        {
          "output_type": "stream",
          "name": "stderr",
          "text": [
            "/tmp/ipython-input-3501627072.py:1: DtypeWarning: Columns (49) have mixed types. Specify dtype option on import or set low_memory=False.\n",
            "  df = pd.read_csv(\"/content/drive_folder/SHIFT_ML_2025_COMPETITION/shift_ml_2025_train.csv\")\n"
          ]
        }
      ]
    },
    {
      "cell_type": "code",
      "source": [
        "ann_incme = pd.read_csv(\"/content/drive_folder/SHIFT_ML_2025_COMPETITION/shift_ml_2025_train.csv\", usecols=[\"годовой_доход\"])"
      ],
      "metadata": {
        "id": "_vuqznRaiEJE"
      },
      "id": "_vuqznRaiEJE",
      "execution_count": 20,
      "outputs": []
    },
    {
      "cell_type": "code",
      "source": [
        "q25 = ann_incme[\"годовой_доход\"].quantile(0.25)\n",
        "print(\"25%-квантиль годового дохода:\", q25)"
      ],
      "metadata": {
        "colab": {
          "base_uri": "https://localhost:8080/"
        },
        "id": "K4eysyQxiW2t",
        "outputId": "0a95df55-e2af-4cc5-bfc8-9e9e510105c7"
      },
      "id": "K4eysyQxiW2t",
      "execution_count": 21,
      "outputs": [
        {
          "output_type": "stream",
          "name": "stdout",
          "text": [
            "25%-квантиль годового дохода: 915200.0\n"
          ]
        }
      ]
    },
    {
      "cell_type": "code",
      "source": [
        "print(df.columns.tolist())"
      ],
      "metadata": {
        "colab": {
          "base_uri": "https://localhost:8080/"
        },
        "id": "UI3Y7povjHj7",
        "outputId": "84bdcc9c-3064-404d-be23-968a967e78e4"
      },
      "id": "UI3Y7povjHj7",
      "execution_count": 27,
      "outputs": [
        {
          "output_type": "stream",
          "name": "stdout",
          "text": [
            "['id', 'сумма_займа', 'срок_займа', 'процентная_ставка', 'аннуитет', 'рейтинг', 'допрейтинг', 'профессия_заемщика', 'стаж', 'владение_жильем', 'годовой_доход', 'подтвержден_ли_доход', 'итоговый_статус_займа', 'рейтинг_OCR', 'платежный_график', 'коэфф_акционных_зачислений_в_остатке', 'цель_займа', 'кол_во_субсидий_за_год', 'индекс_проживания', 'регион', 'пдн', 'пос_стоп_фактор', 'юридический_статус', 'кол-во_просрочек_за_два_года', 'коэфф_невыплаченного_сумм_остатка', 'коэфф_исходного_платежа', 'дата_первого_займа', 'нижний_порог_рейтинга_заемщика', 'верхний_порог_рейтинга_заемщика', 'кол-во_заявок_за_полгода', 'кол-во_месяцев_с_последней_просрочки', 'кол-во_месяцев_с_последнего_займа', 'кол-во_открытых_счетов', 'кол-во_записей_в_общедоступных_документах', 'оборотный_баланс', 'коэфф_загрузки_возобновляемого_счета', 'кол-во_счетов', 'первоначальный_статус_займа', 'непогашенная_сумма_из_тела_займов', 'сумма_выплат_по_просрочкам', 'пени_за_дефолт', 'дата_следующей_выплаты', 'грейд_на_детерминаторе', 'кол-во_взысканий_за_последний_год', 'кол-во_месяцев_с_последнего_нарушения', 'код_политики', 'тип_займа', 'совокупный_доход_заемщиков', 'совокупный_пдн_заемщиков', 'совокупный_статус_подтверждения_доходов_заемщиков', 'кол-во_текущих_просроченных_счетов', 'общая_сумма_взысканий', 'возвраты_с_учетом_мпл', 'общая_сумма_на_счетах', 'кол-во_открытых_счетов_за_полгода', 'кол-во_текущих_аннуитетных_счетов', 'кол-во_аннуитетных_счетов_за_год', 'кол-во_аннуитетных_счетов_за_2_года', 'кол-во_месяцев_с_посл_аннуитетного_счета', 'текущий_баланс_по_аннуитетным_счетам', 'соотношение_сумм_текущего_баланса_к_лимиту_по_аннуитетным_счетам', 'кол-во_возоб_счетов_за_год', 'кол-во_возоб_счетов_за_2_года', 'макс_баланс_по_возоб_счетам', 'соотношение_баланса_к_лимиту_общее', 'общий_лимит_по_возоб_счету', 'кол-во_финансовых_запросов', 'кол-во_финансовых_операций', 'кол-во_заявок_на_кредит_за_год', 'кол-во_открытых_счетов_за_2_года', 'средний_баланс_текущих_счетов', 'суммарная_доступная_сумма_займа_по_картам', 'соотношение_баланса_к_лимиту_по_картам', 'кол-во_списаний_за_год', 'сумма_задолженности', 'кол-во_месяцев_с_первого_аннуитетного_счета', 'кол-во_месяцев_с_первого_возобновляемого_счета', 'кол-во_месяцев_с_последнего_возобновляемого_счета', 'кол-во_месяцев_с_последнего_счета', 'кол-во_ипотек', 'кол-во_месяцев_с_последней_карты', 'кол-во_мес_с_последней_задолженности_по_карте', 'кол-во_мес_с_последней_заявки', 'кол-во_мес_с_последней_задолженности_по_возобновляемому_счету', 'кол-во_счетов_с_просрочкой_4_мес', 'кол-во_активных_карт', 'кол-во_активных_возобновляемых_счетов', 'кол-во_карт_без_нарушений', 'кол-во_карт', 'кол-во_аннуитетных_счетов', 'кол-во_открытых_возобновляемых_счетов', 'кол-во_возобновляемых_счетов', 'кол-во_возобновляемых_счетов_с_балансом_более_0', 'кол-во_счетов_без_нарушений', 'кол-во_счетов_с_акт_просрочкой_4_мес_обн_2_мес', 'кол-во_счетов_с_акт_просрочкой_1_мес', 'кол-во_счетов_с_акт_просрочкой_3_мес_за_2_года', 'кол-во_счетов_за_посл_год', 'процент_счетов_без_просрочек', 'процент_счетов_прев_75_лимита', 'кол-во_публ_банкротств', 'кол-во_залогов', 'кредитный_лимит', 'кредитный_баланс_без_ипотеки', 'лимит_по_картам', 'лимит_по_аннуитетным_счетам', 'кредитный_баланс_по_возоб_счетам', 'особая_ситуация', 'тип_предоставления_кредита']\n"
          ]
        }
      ]
    },
    {
      "cell_type": "code",
      "source": [
        "print(df[['рейтинг', 'итоговый_статус_займа']])"
      ],
      "metadata": {
        "colab": {
          "base_uri": "https://localhost:8080/"
        },
        "id": "Uqf8aQG0mIjd",
        "outputId": "208bc306-4acd-487d-ca29-86ec82d38aa3"
      },
      "id": "Uqf8aQG0mIjd",
      "execution_count": 29,
      "outputs": [
        {
          "output_type": "stream",
          "name": "stdout",
          "text": [
            "        рейтинг  итоговый_статус_займа\n",
            "0             В                      0\n",
            "1             Б                      0\n",
            "2             В                      0\n",
            "3             Б                      0\n",
            "4             Б                      0\n",
            "...         ...                    ...\n",
            "1210774       Б                      0\n",
            "1210775       В                      0\n",
            "1210776       В                      1\n",
            "1210777       В                      0\n",
            "1210778       В                      1\n",
            "\n",
            "[1210779 rows x 2 columns]\n"
          ]
        }
      ]
    },
    {
      "cell_type": "code",
      "source": [
        "df.groupby('рейтинг')['итоговый_статус_займа'].mean()"
      ],
      "metadata": {
        "colab": {
          "base_uri": "https://localhost:8080/",
          "height": 335
        },
        "id": "Q3InCra3kXW1",
        "outputId": "9de93494-9d6a-4194-ef35-10672805c693"
      },
      "id": "Q3InCra3kXW1",
      "execution_count": 28,
      "outputs": [
        {
          "output_type": "execute_result",
          "data": {
            "text/plain": [
              "рейтинг\n",
              "А    0.060594\n",
              "Б    0.133952\n",
              "В    0.224474\n",
              "Г    0.303468\n",
              "Д    0.384352\n",
              "Е    0.452222\n",
              "Ж    0.497314\n",
              "Name: итоговый_статус_займа, dtype: float64"
            ],
            "text/html": [
              "<div>\n",
              "<style scoped>\n",
              "    .dataframe tbody tr th:only-of-type {\n",
              "        vertical-align: middle;\n",
              "    }\n",
              "\n",
              "    .dataframe tbody tr th {\n",
              "        vertical-align: top;\n",
              "    }\n",
              "\n",
              "    .dataframe thead th {\n",
              "        text-align: right;\n",
              "    }\n",
              "</style>\n",
              "<table border=\"1\" class=\"dataframe\">\n",
              "  <thead>\n",
              "    <tr style=\"text-align: right;\">\n",
              "      <th></th>\n",
              "      <th>итоговый_статус_займа</th>\n",
              "    </tr>\n",
              "    <tr>\n",
              "      <th>рейтинг</th>\n",
              "      <th></th>\n",
              "    </tr>\n",
              "  </thead>\n",
              "  <tbody>\n",
              "    <tr>\n",
              "      <th>А</th>\n",
              "      <td>0.060594</td>\n",
              "    </tr>\n",
              "    <tr>\n",
              "      <th>Б</th>\n",
              "      <td>0.133952</td>\n",
              "    </tr>\n",
              "    <tr>\n",
              "      <th>В</th>\n",
              "      <td>0.224474</td>\n",
              "    </tr>\n",
              "    <tr>\n",
              "      <th>Г</th>\n",
              "      <td>0.303468</td>\n",
              "    </tr>\n",
              "    <tr>\n",
              "      <th>Д</th>\n",
              "      <td>0.384352</td>\n",
              "    </tr>\n",
              "    <tr>\n",
              "      <th>Е</th>\n",
              "      <td>0.452222</td>\n",
              "    </tr>\n",
              "    <tr>\n",
              "      <th>Ж</th>\n",
              "      <td>0.497314</td>\n",
              "    </tr>\n",
              "  </tbody>\n",
              "</table>\n",
              "</div><br><label><b>dtype:</b> float64</label>"
            ]
          },
          "metadata": {},
          "execution_count": 28
        }
      ]
    },
    {
      "cell_type": "code",
      "source": [
        "mean_loan = df[(df['профессия_заемщика'] == 'инженер') & (df['рейтинг'] == 'Б')]['сумма_займа'].mean()\n",
        "print(\"Средняя сумма займа инженеров с рейтингом 'Б':\", mean_loan)"
      ],
      "metadata": {
        "colab": {
          "base_uri": "https://localhost:8080/"
        },
        "id": "z1ho9l3hpfWQ",
        "outputId": "eb39e7b9-2f93-4f3a-c834-a222e9f5cc4d"
      },
      "id": "z1ho9l3hpfWQ",
      "execution_count": 31,
      "outputs": [
        {
          "output_type": "stream",
          "name": "stdout",
          "text": [
            "Средняя сумма займа инженеров с рейтингом 'Б': 772842.0256991686\n"
          ]
        }
      ]
    },
    {
      "cell_type": "code",
      "source": [
        "features = [\n",
        "    'кол-во_карт_без_нарушений',\n",
        "    'совокупный_статус_подтверждения_доходов_заемщиков',\n",
        "    'совокупный_доход_заемщиков',\n",
        "    'дата_следующей_выплаты'\n",
        "]\n",
        "\n",
        "missing_counts = df[features].isnull().sum()\n",
        "print(missing_counts)"
      ],
      "metadata": {
        "colab": {
          "base_uri": "https://localhost:8080/"
        },
        "id": "OEoyWx2_qUsk",
        "outputId": "44d62376-bbea-4c30-825f-39a37f538847"
      },
      "id": "OEoyWx2_qUsk",
      "execution_count": 32,
      "outputs": [
        {
          "output_type": "stream",
          "name": "stdout",
          "text": [
            "кол-во_карт_без_нарушений                              50207\n",
            "совокупный_статус_подтверждения_доходов_заемщиков    1187729\n",
            "совокупный_доход_заемщиков                           1187546\n",
            "дата_следующей_выплаты                               1210779\n",
            "dtype: int64\n"
          ]
        }
      ]
    },
    {
      "cell_type": "code",
      "source": [
        "print(df['тип_предоставления_кредита'].unique())"
      ],
      "metadata": {
        "colab": {
          "base_uri": "https://localhost:8080/"
        },
        "id": "yUuFXRdCqtvc",
        "outputId": "a539f716-19ff-4db2-ed06-8a7e86c39841"
      },
      "id": "yUuFXRdCqtvc",
      "execution_count": 33,
      "outputs": [
        {
          "output_type": "stream",
          "name": "stdout",
          "text": [
            "['Наличные' 'Перевод']\n"
          ]
        }
      ]
    },
    {
      "cell_type": "code",
      "source": [
        "from scipy.stats import ttest_ind\n",
        "\n",
        "df_rating_zh = df[df['рейтинг'] == 'Ж']\n",
        "group_paid = df_rating_zh[df_rating_zh['итоговый_статус_займа'] == 0]['сумма_займа']\n",
        "group_not_paid = df_rating_zh[df_rating_zh['итоговый_статус_займа'] == 1]['сумма_займа']\n",
        "print(f\"группы выплативших: {len(group_paid)}\")\n",
        "print(f\"группы не выплативших: {len(group_not_paid)}\")\n",
        "\n",
        "t_stat, p_value = ttest_ind(group_paid, group_not_paid, equal_var=False)\n",
        "print(f\"t-statistic = {t_stat:.4f}\")\n",
        "print(f\"p-value = {p_value:.4f}\")\n",
        "\n",
        "alpha = 0.05\n",
        "if p_value < alpha:\n",
        "    print(\"Отвергаем нулевую гипотезу\")\n",
        "else:\n",
        "    print(\"Не отвергаем нулевую гипотезу\")\n"
      ],
      "metadata": {
        "colab": {
          "base_uri": "https://localhost:8080/"
        },
        "id": "mJnIxj1srkih",
        "outputId": "42932685-7307-4e31-a251-2f47c32bd800"
      },
      "id": "mJnIxj1srkih",
      "execution_count": 35,
      "outputs": [
        {
          "output_type": "stream",
          "name": "stdout",
          "text": [
            "группы выплативших: 4118\n",
            "группы не выплативших: 4074\n",
            "t-statistic = 0.9739\n",
            "p-value = 0.3301\n",
            "Не отвергаем нулевую гипотезу\n"
          ]
        }
      ]
    },
    {
      "cell_type": "code",
      "source": [
        "import seaborn as sns\n",
        "import matplotlib.pyplot as plt\n",
        "\n",
        "sns.boxplot(x='рейтинг', y='сумма_займа', data=df)\n",
        "plt.title('Распределение суммы займа по рейтингу')\n",
        "plt.show()"
      ],
      "metadata": {
        "colab": {
          "base_uri": "https://localhost:8080/",
          "height": 472
        },
        "id": "MU7sDOw7s3T9",
        "outputId": "4c5c15b6-468d-4e26-a35e-7fef734360c0"
      },
      "id": "MU7sDOw7s3T9",
      "execution_count": 36,
      "outputs": [
        {
          "output_type": "display_data",
          "data": {
            "text/plain": [
              "<Figure size 640x480 with 1 Axes>"
            ],
            "image/png": "[encoded data removed]"
          },
          "metadata": {}
        }
      ]
    }
  ],
  "metadata": {
    "kernelspec": {
      "display_name": "base",
      "language": "python",
      "name": "python3"
    },
    "language_info": {
      "codemirror_mode": {
        "name": "ipython",
        "version": 3
      },
      "file_extension": ".py",
      "mimetype": "text/x-python",
      "name": "python",
      "nbconvert_exporter": "python",
      "pygments_lexer": "ipython3",
      "version": "3.12.4"
    },
    "colab": {
      "provenance": []
    }
  },
  "nbformat": 4,
  "nbformat_minor": 5
}